{
 "cells": [
  {
   "cell_type": "code",
   "execution_count": 7,
   "metadata": {
    "collapsed": true,
    "pycharm": {
     "name": "#%%\n"
    }
   },
   "outputs": [],
   "source": [
    "import pandas as pd\n",
    "import numpy as np\n",
    "import matplotlib\n",
    "import seaborn as sns\n",
    "import matplotlib.pyplot as plt\n",
    "from sklearn.linear_model import LinearRegression\n",
    "from sklearn.metrics import r2_score"
   ]
  },
  {
   "cell_type": "code",
   "execution_count": 8,
   "outputs": [],
   "source": [
    "df = pd.read_csv('codesearchnet_june16_00_unpretified.csv')\n",
    "df2 = pd.read_csv('codesearchnet_june16_v2_00_unpretified.csv')"
   ],
   "metadata": {
    "collapsed": false,
    "pycharm": {
     "name": "#%%\n"
    }
   }
  },
  {
   "cell_type": "code",
   "execution_count": 9,
   "outputs": [
    {
     "data": {
      "text/plain": "      name                                             vsname  \\\n0        0        0 5398009879341160958 vs 235232079984988680   \n1     1000  1000 08396635250811565331 vs 06038940998855591...   \n2     1001  1001 319821502249459347463070 vs 9405457041599...   \n3     1002      1002 2200353703243819 vs 22586051655941479085   \n4     1003  1003 953411580209776537457296485 vs 8496242357...   \n...    ...                                                ...   \n8764  9998     9998 18989527848419193 vs 38380318470743534941   \n8765  9999  9999 0481205538744275409 vs 221501705658753532533   \n8766   999   999 013644926220209182 vs 2122273926661890350549   \n8767    99      99 77082640635773671216 vs 550489375709257475   \n8768     9  9 96721321802886147424 vs 93410619185855253513241   \n\n      ASGard_completeness  generalization_completeness  ASGard_abstraction  \\\n0                0.210445                     0.273810            0.500000   \n1                0.129628                     0.297356            0.500000   \n2                0.142123                     0.205137            0.583333   \n3                0.156483                     0.226763            0.642857   \n4                0.141599                     0.223540            0.666667   \n...                   ...                          ...                 ...   \n8764             0.190047                     0.245277            0.666667   \n8765             0.189233                     0.346208            0.571429   \n8766             0.219152                     0.369565            0.500000   \n8767             0.129999                     0.238962            0.500000   \n8768             0.203018                     0.338272            0.642857   \n\n      generalization_abstraction  ASGard_variable_ratio  \\\n0                       0.818182               0.227662   \n1                       0.500000               0.108225   \n2                       0.647059               0.173248   \n3                       0.687500               0.177232   \n4                       0.634146               0.204173   \n...                          ...                    ...   \n8764                    0.714286               0.233298   \n8765                    0.500000               0.239286   \n8766                    0.647059               0.237540   \n8767                    0.666667               0.111244   \n8768                    0.578947               0.328249   \n\n      generalization_variable_ratio  \n0                          0.341493  \n1                          0.297619  \n2                          0.272247  \n3                          0.216617  \n4                          0.331782  \n...                             ...  \n8764                       0.388830  \n8765                       0.329018  \n8766                       0.373277  \n8767                       0.355981  \n8768                       0.401194  \n\n[8769 rows x 8 columns]",
      "text/html": "<div>\n<style scoped>\n    .dataframe tbody tr th:only-of-type {\n        vertical-align: middle;\n    }\n\n    .dataframe tbody tr th {\n        vertical-align: top;\n    }\n\n    .dataframe thead th {\n        text-align: right;\n    }\n</style>\n<table border=\"1\" class=\"dataframe\">\n  <thead>\n    <tr style=\"text-align: right;\">\n      <th></th>\n      <th>name</th>\n      <th>vsname</th>\n      <th>ASGard_completeness</th>\n      <th>generalization_completeness</th>\n      <th>ASGard_abstraction</th>\n      <th>generalization_abstraction</th>\n      <th>ASGard_variable_ratio</th>\n      <th>generalization_variable_ratio</th>\n    </tr>\n  </thead>\n  <tbody>\n    <tr>\n      <th>0</th>\n      <td>0</td>\n      <td>0 5398009879341160958 vs 235232079984988680</td>\n      <td>0.210445</td>\n      <td>0.273810</td>\n      <td>0.500000</td>\n      <td>0.818182</td>\n      <td>0.227662</td>\n      <td>0.341493</td>\n    </tr>\n    <tr>\n      <th>1</th>\n      <td>1000</td>\n      <td>1000 08396635250811565331 vs 06038940998855591...</td>\n      <td>0.129628</td>\n      <td>0.297356</td>\n      <td>0.500000</td>\n      <td>0.500000</td>\n      <td>0.108225</td>\n      <td>0.297619</td>\n    </tr>\n    <tr>\n      <th>2</th>\n      <td>1001</td>\n      <td>1001 319821502249459347463070 vs 9405457041599...</td>\n      <td>0.142123</td>\n      <td>0.205137</td>\n      <td>0.583333</td>\n      <td>0.647059</td>\n      <td>0.173248</td>\n      <td>0.272247</td>\n    </tr>\n    <tr>\n      <th>3</th>\n      <td>1002</td>\n      <td>1002 2200353703243819 vs 22586051655941479085</td>\n      <td>0.156483</td>\n      <td>0.226763</td>\n      <td>0.642857</td>\n      <td>0.687500</td>\n      <td>0.177232</td>\n      <td>0.216617</td>\n    </tr>\n    <tr>\n      <th>4</th>\n      <td>1003</td>\n      <td>1003 953411580209776537457296485 vs 8496242357...</td>\n      <td>0.141599</td>\n      <td>0.223540</td>\n      <td>0.666667</td>\n      <td>0.634146</td>\n      <td>0.204173</td>\n      <td>0.331782</td>\n    </tr>\n    <tr>\n      <th>...</th>\n      <td>...</td>\n      <td>...</td>\n      <td>...</td>\n      <td>...</td>\n      <td>...</td>\n      <td>...</td>\n      <td>...</td>\n      <td>...</td>\n    </tr>\n    <tr>\n      <th>8764</th>\n      <td>9998</td>\n      <td>9998 18989527848419193 vs 38380318470743534941</td>\n      <td>0.190047</td>\n      <td>0.245277</td>\n      <td>0.666667</td>\n      <td>0.714286</td>\n      <td>0.233298</td>\n      <td>0.388830</td>\n    </tr>\n    <tr>\n      <th>8765</th>\n      <td>9999</td>\n      <td>9999 0481205538744275409 vs 221501705658753532533</td>\n      <td>0.189233</td>\n      <td>0.346208</td>\n      <td>0.571429</td>\n      <td>0.500000</td>\n      <td>0.239286</td>\n      <td>0.329018</td>\n    </tr>\n    <tr>\n      <th>8766</th>\n      <td>999</td>\n      <td>999 013644926220209182 vs 2122273926661890350549</td>\n      <td>0.219152</td>\n      <td>0.369565</td>\n      <td>0.500000</td>\n      <td>0.647059</td>\n      <td>0.237540</td>\n      <td>0.373277</td>\n    </tr>\n    <tr>\n      <th>8767</th>\n      <td>99</td>\n      <td>99 77082640635773671216 vs 550489375709257475</td>\n      <td>0.129999</td>\n      <td>0.238962</td>\n      <td>0.500000</td>\n      <td>0.666667</td>\n      <td>0.111244</td>\n      <td>0.355981</td>\n    </tr>\n    <tr>\n      <th>8768</th>\n      <td>9</td>\n      <td>9 96721321802886147424 vs 93410619185855253513241</td>\n      <td>0.203018</td>\n      <td>0.338272</td>\n      <td>0.642857</td>\n      <td>0.578947</td>\n      <td>0.328249</td>\n      <td>0.401194</td>\n    </tr>\n  </tbody>\n</table>\n<p>8769 rows × 8 columns</p>\n</div>"
     },
     "execution_count": 9,
     "metadata": {},
     "output_type": "execute_result"
    }
   ],
   "source": [
    "df"
   ],
   "metadata": {
    "collapsed": false,
    "pycharm": {
     "name": "#%%\n"
    }
   }
  },
  {
   "cell_type": "code",
   "execution_count": 17,
   "outputs": [],
   "source": [
    "def extract_improvements(df):\n",
    "    cnt = len(df)\n",
    "    completeness_improvement = (sum(df['generalization_completeness']) -sum(df['ASGard_completeness'])) / cnt\n",
    "    abstraction_improvement = (sum(df['generalization_abstraction']) - sum(df['ASGard_abstraction'])) / cnt\n",
    "    variable_ratio_improvement = (sum(df['generalization_variable_ratio']) - sum(df['ASGard_variable_ratio'])) / cnt\n",
    "    print({completeness_improvement, abstraction_improvement, variable_ratio_improvement})"
   ],
   "metadata": {
    "collapsed": false,
    "pycharm": {
     "name": "#%%\n"
    }
   }
  },
  {
   "cell_type": "code",
   "execution_count": 18,
   "outputs": [
    {
     "name": "stdout",
     "output_type": "stream",
     "text": [
      "{0.06863026332538069, 0.06114121922331907, -0.021990384141244573}\n",
      "V2\n",
      "{0.04856816291516402, 0.07092601869561004, 0.015195203692340441}\n"
     ]
    }
   ],
   "source": [
    "extract_improvements(df)\n",
    "print('V2')\n",
    "extract_improvements(df2)\n"
   ],
   "metadata": {
    "collapsed": false,
    "pycharm": {
     "name": "#%%\n"
    }
   }
  },
  {
   "cell_type": "code",
   "execution_count": 24,
   "outputs": [
    {
     "name": "stdout",
     "output_type": "stream",
     "text": [
      "summary_00_unpretified.csv\n",
      "{0.179433028634933, -0.05885282071489947, -0.04222381885621885}\n",
      "summary_03_pretified.csv\n",
      "{0.09062094341190094, -0.04329172395432813, -0.04852453303287886}\n",
      "summary_june2_00_unpretified.csv\n",
      "{0.18017893379107736, -0.03251255260465502, -0.05279712715294462}\n",
      "summary_v2_00_unpretified.csv\n",
      "{0.16234968545754971, -0.046392375394995265, -0.022358027083361924}\n"
     ]
    }
   ],
   "source": [
    "file_names = ['summary_00_unpretified.csv', 'summary_03_pretified.csv', 'summary_june2_00_unpretified.csv', 'summary_v2_00_unpretified.csv']\n",
    "for file_name in file_names:\n",
    "    df = pd.read_csv(file_name)\n",
    "    print(file_name)\n",
    "    extract_improvements(df)"
   ],
   "metadata": {
    "collapsed": false,
    "pycharm": {
     "name": "#%%\n"
    }
   }
  },
  {
   "cell_type": "code",
   "execution_count": 26,
   "outputs": [
    {
     "name": "stdout",
     "output_type": "stream",
     "text": [
      "{-0.013655356697506671, -0.005384644102782675, 0.0035826918930605017}\n"
     ]
    }
   ],
   "source": [
    "df = pd.read_csv('random_codesearchnet_july21_00_unpretified.csv')\n",
    "extract_improvements(df)"
   ],
   "metadata": {
    "collapsed": false,
    "pycharm": {
     "name": "#%%\n"
    }
   }
  },
  {
   "cell_type": "code",
   "execution_count": 27,
   "outputs": [
    {
     "name": "stdout",
     "output_type": "stream",
     "text": [
      "{0.06850422853116314, 0.06100867057967197, -0.02201591634009465}\n"
     ]
    }
   ],
   "source": [
    "df = pd.read_csv('codesearchnet_june9_00_unpretified.csv')\n",
    "extract_improvements(df)"
   ],
   "metadata": {
    "collapsed": false,
    "pycharm": {
     "name": "#%%\n"
    }
   }
  },
  {
   "cell_type": "code",
   "execution_count": null,
   "outputs": [],
   "source": [],
   "metadata": {
    "collapsed": false,
    "pycharm": {
     "name": "#%%\n"
    }
   }
  }
 ],
 "metadata": {
  "kernelspec": {
   "display_name": "Python 3",
   "language": "python",
   "name": "python3"
  },
  "language_info": {
   "codemirror_mode": {
    "name": "ipython",
    "version": 2
   },
   "file_extension": ".py",
   "mimetype": "text/x-python",
   "name": "python",
   "nbconvert_exporter": "python",
   "pygments_lexer": "ipython2",
   "version": "2.7.6"
  }
 },
 "nbformat": 4,
 "nbformat_minor": 0
}