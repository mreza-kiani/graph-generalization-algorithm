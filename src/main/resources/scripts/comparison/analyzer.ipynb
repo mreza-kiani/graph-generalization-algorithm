{
 "cells": [
  {
   "cell_type": "code",
   "execution_count": 1,
   "metadata": {
    "collapsed": true,
    "pycharm": {
     "name": "#%%\n"
    },
    "ExecuteTime": {
     "end_time": "2024-01-16T22:55:34.455425Z",
     "start_time": "2024-01-16T22:55:33.853357Z"
    }
   },
   "outputs": [],
   "source": [
    "import pandas as pd\n",
    "import numpy as np\n",
    "import matplotlib\n",
    "import seaborn as sns\n",
    "import matplotlib.pyplot as plt\n",
    "from sklearn.linear_model import LinearRegression\n",
    "from sklearn.metrics import r2_score"
   ]
  },
  {
   "cell_type": "code",
   "execution_count": 2,
   "outputs": [],
   "source": [
    "df = pd.read_csv('mine_codesearchnet_sep19_00_unpretified.csv')\n",
    "df2 = pd.read_csv('mine_v2_codesearchnet_sep19_00_pretified.csv')"
   ],
   "metadata": {
    "collapsed": false,
    "pycharm": {
     "name": "#%%\n"
    }
   }
  },
  {
   "cell_type": "code",
   "execution_count": 2,
   "outputs": [],
   "source": [
    "df = pd.read_csv('FINAL_mine_codesearchnet_sep19_unpretified.csv')\n",
    "df2 = pd.read_csv('FINAL_summary_june2_unpretified.csv')"
   ],
   "metadata": {
    "collapsed": false,
    "pycharm": {
     "name": "#%%\n"
    },
    "ExecuteTime": {
     "end_time": "2024-01-16T22:55:34.470491Z",
     "start_time": "2024-01-16T22:55:34.456402Z"
    }
   }
  },
  {
   "cell_type": "code",
   "execution_count": 20,
   "outputs": [
    {
     "data": {
      "text/plain": "array([1009, 1012, 1034, 1040, 1042, 1055, 1063, 1087, 1114, 1126, 1129,\n       1153, 1154, 1155, 1163, 1168, 1181, 1184, 1187,  119, 1201, 1227,\n       1242, 1244, 1254, 1257, 1262,  127, 1304,  131, 1339, 1344, 1371,\n       1383, 1392, 1398, 1399, 1407, 1430,  143, 1440, 1443, 1453, 1470,\n       1474, 1476, 1495, 1502, 1510, 1511, 1513, 1526,  152, 1535, 1537,\n       1540, 1549, 1551, 1560, 1561, 1563, 1590,  159, 1624,  162, 1641,\n       1647, 1648, 1663, 1666, 1677, 1683, 1686, 1693, 1694,  172, 1743,\n        176, 1778, 1791, 1820, 1824, 1831, 1846, 1849, 1851, 1878, 1883,\n       1888, 1893, 1895, 1897, 1898, 1915, 1917, 1930, 1942, 1955, 1967,\n       1978, 1984, 1986,   19, 2038, 2050, 2055, 2056, 2064,  206, 2072,\n       2089, 2092, 2115, 2129, 2133, 2159, 2165,  216, 2192, 2199,   21,\n       2215,  222, 2230, 2231, 2255, 2256, 2259, 2263, 2266, 2274, 2277,\n       2278, 2286, 2294, 2317, 2327, 2332, 2343, 2344,  234, 2365, 2367,\n       2368, 2386, 2392, 2407,  240,  243, 2441, 2460, 2466, 2498, 2500,\n       2528,  252, 2538, 2565, 2567, 2572, 2576, 2584, 2601,  260, 2617,\n       2627, 2646, 2651, 2661, 2662, 2663, 2667, 2670, 2680, 2685, 2688,\n       2700, 2710, 2713, 2728, 2750, 2758, 2767,  276, 2771, 2772, 2775,\n       2777, 2778, 2794, 2796, 2797, 2808, 2815, 2824,  283, 2843, 2853,\n       2856, 2880, 2886, 2887, 2888, 2891, 2926, 2932, 2934, 2936, 2956,\n       2968,  296, 2972, 2976, 2986,  299, 3017, 3027, 3043, 3046, 3057,\n       3063, 3072, 3076, 3077, 3094,  310, 3112, 3117, 3120, 3143, 3156,\n       3186, 3197, 3202, 3210, 3212, 3216, 3220, 3225, 3227, 3239, 3267,\n       3293, 3294, 3296, 3297, 3300, 3301, 3305, 3335, 3337, 3341, 3343,\n       3362, 3373, 3391, 3394, 3402, 3426, 3432, 3440, 3457, 3462,  346,\n       3478,  347, 3497,  350, 3512, 3514, 3520, 3525, 3526, 3531,  354,\n       3556, 3564, 3566, 3568, 3606, 3626, 3634, 3655, 3661, 3669,  366,\n       3678, 3695, 3727, 3749, 3757, 3768, 3770,  377, 3787, 3793, 3798,\n       3799, 3801, 3804, 3811, 3812, 3813, 3825, 3834, 3847, 3873, 3886,\n       3896, 3899, 3906, 3909, 3919, 3930, 3937, 3938, 3946, 3956,  396,\n       3974, 3981, 4007, 4009,  400, 4016, 4022, 4033, 4041, 4044, 4045,\n       4048, 4054, 4066, 4068, 4069,   40, 4101, 4109, 4113, 4122, 4123,\n       4141, 4142, 4150, 4155, 4165, 4166, 4171, 4178, 4179, 4191,  419,\n       4216, 4219, 4226, 4229, 4233, 4248, 4250, 4254, 4264, 4265, 4275,\n       4288, 4296, 4315, 4321, 4336, 4338, 4348, 4362, 4379, 4397, 4400,\n       4417,  441, 4424, 4432, 4441, 4447, 4450, 4451, 4468, 4471, 4480,\n       4486, 4511, 4515, 4531, 4550, 4557, 4562, 4566,  456, 4579, 4604,\n       4615, 4624, 4625, 4627,  462, 4644, 4659, 4675, 4683, 4685, 4686,\n       4689, 4701, 4705, 4727, 4729, 4732, 4738, 4746, 4753, 4766,  477,\n       4805, 4811, 4841, 4855, 4858, 4884, 4893, 4899, 4910, 4918, 4919,\n       4921, 4924, 4946, 4962, 4963, 4993, 4994, 5014, 5030, 5035, 5064,\n       5066, 5073, 5076, 5078,  508, 5097, 5110, 5125, 5130, 5145, 5148,\n       5149, 5150, 5162, 5163, 5166, 5168, 5181, 5194, 5197, 5224, 5239,\n       5258, 5264, 5265, 5271, 5286, 5311, 5354, 5373,   53, 5400, 5411,\n       5422, 5423, 5429, 5431, 5442, 5449, 5451, 5452, 5473, 5479, 5480,\n       5490, 5491, 5492, 5493, 5507, 5508, 5529, 5536, 5555, 5559,  555,\n       5562, 5567, 5572, 5616, 5620, 5636, 5651, 5653, 5661, 5663, 5683,\n       5687, 5702, 5705, 5723, 5725, 5732, 5736, 5742, 5754, 5760, 5782,\n       5791, 5796, 5801, 5809, 5819, 5823, 5828, 5839, 5840, 5849, 5875,\n        588, 5931, 5948, 5958, 5965, 5985, 5991, 5996, 6002, 6021, 6040,\n       6054,  605, 6064, 6066, 6074, 6094, 6098, 6113, 6128, 6132, 6140,\n       6142, 6154, 6160, 6161, 6177, 6178, 6187, 6211, 6223, 6231, 6238,\n        623, 6273, 6277, 6278, 6285, 6294, 6302, 6339, 6368, 6392, 6393,\n        639, 6411,  644, 6469, 6477, 6488, 6495, 6498, 6500, 6503,  650,\n       6516, 6548,  656, 6583, 6586, 6592, 6600, 6623,  662, 6657, 6668,\n        666, 6674, 6687, 6688, 6699, 6700, 6701, 6722, 6741, 6751, 6805,\n       6806, 6818, 6824, 6841, 6855,  685, 6874,  687, 6906, 6907, 6912,\n       6913, 6921, 6923, 6931, 6941, 6969, 6977, 6979, 7006, 7007, 7018,\n       7038,  705, 7086, 7087, 7105, 7120, 7121, 7129, 7130, 7132, 7134,\n       7158, 7160, 7170, 7193, 7210, 7216, 7224, 7229, 7263, 7264, 7271,\n       7279, 7294, 7297,  731, 7330, 7334, 7339, 7348,  734, 7356, 7357,\n       7362, 7364, 7401, 7412, 7432, 7435, 7436, 7437, 7447,  745,  746,\n       7487, 7491, 7498, 7501, 7505, 7508, 7525, 7548, 7552, 7571, 7578,\n       7593, 7596, 7598, 7604, 7605, 7606, 7618, 7632, 7644, 7665, 7666,\n       7676, 7681, 7682, 7684, 7686, 7701, 7702, 7713, 7714, 7716, 7722,\n       7727, 7729, 7737, 7742, 7746, 7773, 7791, 7797, 7805, 7814, 7821,\n       7823, 7847, 7849, 7867, 7879, 7889, 7903,  790, 7911,  792,  794,\n       7957, 7984, 8001,  800, 8010, 8023, 8038, 8044, 8082, 8089, 8090,\n       8092, 8093,   80, 8106, 8122, 8129, 8146, 8147, 8149, 8158, 8174,\n       8198, 8212, 8213,  821, 8221, 8246, 8251, 8281, 8291, 8303, 8313,\n       8323,  833, 8346, 8358, 8359, 8362, 8381, 8383,  838, 8392, 8424,\n       8428, 8433, 8439, 8453, 8475, 8477, 8496, 8501, 8515, 8516, 8518,\n       8534, 8535, 8538, 8542, 8548, 8565, 8579,  858, 8592, 8595, 8604,\n       8610, 8618, 8626, 8632, 8658,  865, 8660, 8692, 8699, 8715,  871,\n       8728, 8739, 8744, 8746, 8751, 8766, 8767, 8771, 8775, 8807,  880,\n       8810, 8817,  882, 8835, 8840, 8864, 8868, 8874, 8883,   88, 8914,\n       8935, 8941,  895, 8962, 8963, 8966, 8978, 8980, 8987, 8996, 9001,\n       9010, 9016, 9019, 9021, 9028, 9031, 9038, 9041, 9044, 9046, 9059,\n       9064, 9079, 9084, 9090, 9091, 9093, 9095, 9104, 9106, 9111, 9126,\n       9152, 9153,  917, 9185, 9186, 9193, 9227, 9241, 9245, 9248, 9255,\n       9261, 9283, 9297, 9305, 9330, 9333, 9339, 9354, 9356, 9365, 9374,\n       9378, 9379,  937, 9389, 9397, 9426, 9432, 9435,  943, 9441, 9444,\n       9449,  944, 9450, 9466,  946, 9472, 9486, 9500, 9517, 9522,  952,\n       9531, 9553, 9556, 9587, 9618, 9630, 9655, 9671, 9674, 9683, 9701,\n       9704, 9713, 9722, 9739, 9759, 9773, 9775,  977, 9798, 9812, 9813,\n       9825, 9829,  982, 9839, 9845, 9851, 9854, 9860, 9867, 9900, 9914,\n       9917, 9921,  994,  998, 9993, 9994,  999])"
     },
     "execution_count": 20,
     "metadata": {},
     "output_type": "execute_result"
    }
   ],
   "source": [
    "df2[df2['generalization_completeness'] > 0.31].name.values"
   ],
   "metadata": {
    "collapsed": false,
    "pycharm": {
     "name": "#%%\n"
    }
   }
  },
  {
   "cell_type": "code",
   "execution_count": 3,
   "outputs": [],
   "source": [
    "def extract_improvements(df):\n",
    "    cnt = len(df)\n",
    "    generalization_completeness = sum(df['generalization_completeness']) / cnt\n",
    "    ASGard_completeness = sum(df['ASGard_completeness']) / cnt\n",
    "    completeness_improvement = generalization_completeness - ASGard_completeness\n",
    "    \n",
    "    generalization_completeness_v2 = sum(df['generalization_completeness_v2']) / cnt\n",
    "    ASGard_completeness_v2 = sum(df['ASGard_completeness_v2']) / cnt\n",
    "    completeness_v2_improvement = generalization_completeness_v2 - ASGard_completeness_v2\n",
    "\n",
    "    generalization_abstraction = sum(df['generalization_abstraction']) / cnt\n",
    "    ASGard_abstraction = sum(df['ASGard_abstraction']) / cnt\n",
    "    abstraction_improvement = generalization_abstraction - ASGard_abstraction\n",
    "\n",
    "    generalization_variable_ratio = sum(df['generalization_variable_ratio']) / cnt\n",
    "    ASGard_variable_ratio = sum(df['ASGard_variable_ratio']) / cnt\n",
    "    variable_ratio_improvement = generalization_variable_ratio - ASGard_variable_ratio\n",
    "\n",
    "    print({'completeness': {'generalization': generalization_completeness, 'ASGard': ASGard_completeness, 'improvement': completeness_improvement}})\n",
    "    print({'completeness_v2': {'generalization': generalization_completeness_v2, 'ASGard': ASGard_completeness_v2, 'improvement': completeness_v2_improvement}})\n",
    "    print({'abstraction': {'generalization': generalization_abstraction, 'ASGard': ASGard_abstraction, 'improvement': abstraction_improvement}})\n",
    "    print({'variable_ratio': {'generalization': generalization_variable_ratio, 'ASGard': ASGard_variable_ratio, 'improvement': variable_ratio_improvement}})"
   ],
   "metadata": {
    "collapsed": false,
    "pycharm": {
     "name": "#%%\n"
    },
    "ExecuteTime": {
     "end_time": "2024-01-16T22:55:36.608925Z",
     "start_time": "2024-01-16T22:55:36.605256Z"
    }
   }
  },
  {
   "cell_type": "code",
   "execution_count": 14,
   "outputs": [
    {
     "name": "stdout",
     "output_type": "stream",
     "text": [
      "{'completeness': {'generalization': 0.6134503950473322, 'ASGard': 0.4555899087562963, 'improvement': 0.15786048629103594}}\n",
      "{'completeness_v2': {'generalization': 0.6442351075722852, 'ASGard': 0.4432803185884378, 'improvement': 0.2009547889838474}}\n",
      "{'abstraction': {'generalization': 0.21136513285013755, 'ASGard': 0.30789742664387104, 'improvement': -0.09653229379373349}}\n",
      "{'variable_ratio': {'generalization': 0.19458541225341514, 'ASGard': 0.23236573255167273, 'improvement': -0.03778032029825759}}\n",
      "------------------------------------------V2------------------------------------------\n",
      "{'completeness': {'generalization': 0.800730253864194, 'ASGard': 0.6205513200731168, 'improvement': 0.1801789337910773}}\n",
      "{'completeness_v2': {'generalization': 0.8388620730585704, 'ASGard': 0.6368024847534072, 'improvement': 0.20205958830516324}}\n",
      "{'abstraction': {'generalization': 0.10817885180977853, 'ASGard': 0.16097597896272314, 'improvement': -0.052797127152944615}}\n",
      "{'variable_ratio': {'generalization': 0.08886445184614992, 'ASGard': 0.12137700445080495, 'improvement': -0.03251255260465502}}\n"
     ]
    }
   ],
   "source": [
    "extract_improvements(df)\n",
    "print('------------------------------------------V2------------------------------------------')\n",
    "extract_improvements(df2)"
   ],
   "metadata": {
    "collapsed": false,
    "pycharm": {
     "name": "#%%\n"
    },
    "ExecuteTime": {
     "end_time": "2024-01-10T03:05:58.901051Z",
     "start_time": "2024-01-10T03:05:58.895495Z"
    }
   }
  },
  {
   "cell_type": "code",
   "outputs": [
    {
     "data": {
      "text/plain": "                  directory    template            vsfiles  is_same  \\\n111       java.util.HashMap  Template12        HashMap5vs1    False   \n91    java.util.Collections   Template4  Collections20vs27    False   \n133      java.util.Iterator   Template5      Iterator5vs27    False   \n96    java.util.Collections   Template9   Collections29vs1    False   \n147           java.util.Map  Template21          Map76vs22    False   \n..                      ...         ...                ...      ...   \n132      java.util.Iterator   Template3       Iterator6vs4     True   \n185   javax.jms.TextMessage   Template5  TextMessage39vs27    False   \n167  javax.jms.JMSException   Template4  JMSException2vs13    False   \n126       java.util.HashSet   Template2      HashSet19vs18     True   \n79         java.util.Arrays   Template1         Arrays1vs5     True   \n\n     ASGard_completeness  generalization_completeness  ASGard_completeness_v2  \\\n111             0.286630                     0.239741                0.343821   \n91              0.273297                     0.240314                0.287323   \n133             0.235193                     0.210609                0.218336   \n96              0.206870                     0.189362                0.202351   \n147             0.254011                     0.247191                0.264689   \n..                   ...                          ...                     ...   \n132             0.507955                     0.971591                0.507955   \n185             0.174460                     0.667470                0.152102   \n167             0.207894                     0.703570                0.211981   \n126             0.481928                     0.993631                0.675159   \n79              0.021269                     0.975083                0.021269   \n\n     generalization_completeness_v2  ASGard_abstraction  \\\n111                        0.404309            0.720000   \n91                         0.368307            0.576923   \n133                        0.296616            0.702703   \n96                         0.316834            0.923077   \n147                        0.438350            0.720000   \n..                              ...                 ...   \n132                        0.971591            0.000000   \n185                        0.736896            0.125000   \n167                        0.773732            0.125000   \n126                        0.993631            0.000000   \n79                         0.975083            0.000000   \n\n     generalization_abstraction  ASGard_variable_ratio  \\\n111                    0.590909               0.575051   \n91                     0.576923               0.470318   \n133                    0.612903               0.551351   \n96                     0.714286               1.142308   \n147                    0.692308               0.631773   \n..                          ...                    ...   \n132                    0.000000               0.000000   \n185                    0.181818               0.022992   \n167                    0.210526               0.050245   \n126                    0.000000               0.000000   \n79                     0.000000               0.000000   \n\n     generalization_variable_ratio  completeness_improvement  \n111                       0.415314                 -0.046889  \n91                        0.470318                 -0.032984  \n133                       0.402911                 -0.024584  \n96                        0.634615                 -0.017509  \n147                       0.631773                 -0.006820  \n..                             ...                       ...  \n132                       0.000000                  0.463636  \n185                       0.137949                  0.493010  \n167                       0.200980                  0.495676  \n126                       0.000000                  0.511703  \n79                        0.000000                  0.953814  \n\n[323 rows x 13 columns]",
      "text/html": "<div>\n<style scoped>\n    .dataframe tbody tr th:only-of-type {\n        vertical-align: middle;\n    }\n\n    .dataframe tbody tr th {\n        vertical-align: top;\n    }\n\n    .dataframe thead th {\n        text-align: right;\n    }\n</style>\n<table border=\"1\" class=\"dataframe\">\n  <thead>\n    <tr style=\"text-align: right;\">\n      <th></th>\n      <th>directory</th>\n      <th>template</th>\n      <th>vsfiles</th>\n      <th>is_same</th>\n      <th>ASGard_completeness</th>\n      <th>generalization_completeness</th>\n      <th>ASGard_completeness_v2</th>\n      <th>generalization_completeness_v2</th>\n      <th>ASGard_abstraction</th>\n      <th>generalization_abstraction</th>\n      <th>ASGard_variable_ratio</th>\n      <th>generalization_variable_ratio</th>\n      <th>completeness_improvement</th>\n    </tr>\n  </thead>\n  <tbody>\n    <tr>\n      <th>111</th>\n      <td>java.util.HashMap</td>\n      <td>Template12</td>\n      <td>HashMap5vs1</td>\n      <td>False</td>\n      <td>0.286630</td>\n      <td>0.239741</td>\n      <td>0.343821</td>\n      <td>0.404309</td>\n      <td>0.720000</td>\n      <td>0.590909</td>\n      <td>0.575051</td>\n      <td>0.415314</td>\n      <td>-0.046889</td>\n    </tr>\n    <tr>\n      <th>91</th>\n      <td>java.util.Collections</td>\n      <td>Template4</td>\n      <td>Collections20vs27</td>\n      <td>False</td>\n      <td>0.273297</td>\n      <td>0.240314</td>\n      <td>0.287323</td>\n      <td>0.368307</td>\n      <td>0.576923</td>\n      <td>0.576923</td>\n      <td>0.470318</td>\n      <td>0.470318</td>\n      <td>-0.032984</td>\n    </tr>\n    <tr>\n      <th>133</th>\n      <td>java.util.Iterator</td>\n      <td>Template5</td>\n      <td>Iterator5vs27</td>\n      <td>False</td>\n      <td>0.235193</td>\n      <td>0.210609</td>\n      <td>0.218336</td>\n      <td>0.296616</td>\n      <td>0.702703</td>\n      <td>0.612903</td>\n      <td>0.551351</td>\n      <td>0.402911</td>\n      <td>-0.024584</td>\n    </tr>\n    <tr>\n      <th>96</th>\n      <td>java.util.Collections</td>\n      <td>Template9</td>\n      <td>Collections29vs1</td>\n      <td>False</td>\n      <td>0.206870</td>\n      <td>0.189362</td>\n      <td>0.202351</td>\n      <td>0.316834</td>\n      <td>0.923077</td>\n      <td>0.714286</td>\n      <td>1.142308</td>\n      <td>0.634615</td>\n      <td>-0.017509</td>\n    </tr>\n    <tr>\n      <th>147</th>\n      <td>java.util.Map</td>\n      <td>Template21</td>\n      <td>Map76vs22</td>\n      <td>False</td>\n      <td>0.254011</td>\n      <td>0.247191</td>\n      <td>0.264689</td>\n      <td>0.438350</td>\n      <td>0.720000</td>\n      <td>0.692308</td>\n      <td>0.631773</td>\n      <td>0.631773</td>\n      <td>-0.006820</td>\n    </tr>\n    <tr>\n      <th>...</th>\n      <td>...</td>\n      <td>...</td>\n      <td>...</td>\n      <td>...</td>\n      <td>...</td>\n      <td>...</td>\n      <td>...</td>\n      <td>...</td>\n      <td>...</td>\n      <td>...</td>\n      <td>...</td>\n      <td>...</td>\n      <td>...</td>\n    </tr>\n    <tr>\n      <th>132</th>\n      <td>java.util.Iterator</td>\n      <td>Template3</td>\n      <td>Iterator6vs4</td>\n      <td>True</td>\n      <td>0.507955</td>\n      <td>0.971591</td>\n      <td>0.507955</td>\n      <td>0.971591</td>\n      <td>0.000000</td>\n      <td>0.000000</td>\n      <td>0.000000</td>\n      <td>0.000000</td>\n      <td>0.463636</td>\n    </tr>\n    <tr>\n      <th>185</th>\n      <td>javax.jms.TextMessage</td>\n      <td>Template5</td>\n      <td>TextMessage39vs27</td>\n      <td>False</td>\n      <td>0.174460</td>\n      <td>0.667470</td>\n      <td>0.152102</td>\n      <td>0.736896</td>\n      <td>0.125000</td>\n      <td>0.181818</td>\n      <td>0.022992</td>\n      <td>0.137949</td>\n      <td>0.493010</td>\n    </tr>\n    <tr>\n      <th>167</th>\n      <td>javax.jms.JMSException</td>\n      <td>Template4</td>\n      <td>JMSException2vs13</td>\n      <td>False</td>\n      <td>0.207894</td>\n      <td>0.703570</td>\n      <td>0.211981</td>\n      <td>0.773732</td>\n      <td>0.125000</td>\n      <td>0.210526</td>\n      <td>0.050245</td>\n      <td>0.200980</td>\n      <td>0.495676</td>\n    </tr>\n    <tr>\n      <th>126</th>\n      <td>java.util.HashSet</td>\n      <td>Template2</td>\n      <td>HashSet19vs18</td>\n      <td>True</td>\n      <td>0.481928</td>\n      <td>0.993631</td>\n      <td>0.675159</td>\n      <td>0.993631</td>\n      <td>0.000000</td>\n      <td>0.000000</td>\n      <td>0.000000</td>\n      <td>0.000000</td>\n      <td>0.511703</td>\n    </tr>\n    <tr>\n      <th>79</th>\n      <td>java.util.Arrays</td>\n      <td>Template1</td>\n      <td>Arrays1vs5</td>\n      <td>True</td>\n      <td>0.021269</td>\n      <td>0.975083</td>\n      <td>0.021269</td>\n      <td>0.975083</td>\n      <td>0.000000</td>\n      <td>0.000000</td>\n      <td>0.000000</td>\n      <td>0.000000</td>\n      <td>0.953814</td>\n    </tr>\n  </tbody>\n</table>\n<p>323 rows × 13 columns</p>\n</div>"
     },
     "execution_count": 7,
     "metadata": {},
     "output_type": "execute_result"
    }
   ],
   "source": [
    "df2['completeness_improvement'] = df2['generalization_completeness'] - df2['ASGard_completeness']\n",
    "df2.sort_values(by=['completeness_improvement'], ascending=True)"
   ],
   "metadata": {
    "collapsed": false,
    "ExecuteTime": {
     "end_time": "2024-01-16T23:59:36.914678Z",
     "start_time": "2024-01-16T23:59:36.899032Z"
    }
   },
   "execution_count": 7
  },
  {
   "cell_type": "code",
   "execution_count": 8,
   "outputs": [
    {
     "name": "stdout",
     "output_type": "stream",
     "text": [
      "summary_00_unpretified.csv\n",
      "{'completeness': {'generalization': 0.7999843487080497, 'ASGard': 0.6205513200731168, 'improvement': 0.17943302863493293}}\n",
      "{'abstraction': {'generalization': 0.10212315824782367, 'ASGard': 0.16097597896272314, 'improvement': -0.05885282071489947}}\n",
      "{'variable_ratio': {'generalization': 0.07915318559458609, 'ASGard': 0.12137700445080495, 'improvement': -0.042223818856218856}}\n",
      "summary_03_pretified.csv\n",
      "{'completeness': {'generalization': 0.8232704904478277, 'ASGard': 0.7326495470359268, 'improvement': 0.09062094341190097}}\n",
      "{'abstraction': {'generalization': 0.08628046593564223, 'ASGard': 0.1348049989685211, 'improvement': -0.048524533032878875}}\n",
      "{'variable_ratio': {'generalization': 0.07053267415947034, 'ASGard': 0.11382439811379848, 'improvement': -0.043291723954328135}}\n",
      "summary_june2_00_unpretified.csv\n",
      "{'completeness': {'generalization': 0.800730253864194, 'ASGard': 0.6205513200731168, 'improvement': 0.1801789337910773}}\n",
      "{'abstraction': {'generalization': 0.10817885180977853, 'ASGard': 0.16097597896272314, 'improvement': -0.052797127152944615}}\n",
      "{'variable_ratio': {'generalization': 0.08886445184614992, 'ASGard': 0.12137700445080495, 'improvement': -0.03251255260465502}}\n",
      "summary_v2_00_unpretified.csv\n",
      "{'completeness': {'generalization': 0.7829010055306664, 'ASGard': 0.6205513200731168, 'improvement': 0.1623496854575497}}\n",
      "{'abstraction': {'generalization': 0.11458360356772788, 'ASGard': 0.16097597896272314, 'improvement': -0.04639237539499526}}\n",
      "{'variable_ratio': {'generalization': 0.09901897736744301, 'ASGard': 0.12137700445080495, 'improvement': -0.02235802708336193}}\n"
     ]
    }
   ],
   "source": [
    "file_names = ['summary_00_unpretified.csv', 'summary_03_pretified.csv', 'summary_june2_00_unpretified.csv', 'summary_v2_00_unpretified.csv']\n",
    "for file_name in file_names:\n",
    "    df = pd.read_csv(file_name)\n",
    "    print(file_name)\n",
    "    extract_improvements(df)"
   ],
   "metadata": {
    "collapsed": false,
    "pycharm": {
     "name": "#%%\n"
    }
   }
  },
  {
   "cell_type": "code",
   "execution_count": 26,
   "outputs": [
    {
     "name": "stdout",
     "output_type": "stream",
     "text": [
      "{-0.013655356697506671, -0.005384644102782675, 0.0035826918930605017}\n"
     ]
    }
   ],
   "source": [
    "df = pd.read_csv('random_codesearchnet_july21_00_unpretified.csv')\n",
    "extract_improvements(df)"
   ],
   "metadata": {
    "collapsed": false,
    "pycharm": {
     "name": "#%%\n"
    }
   }
  },
  {
   "cell_type": "code",
   "execution_count": 27,
   "outputs": [
    {
     "name": "stdout",
     "output_type": "stream",
     "text": [
      "{0.06850422853116314, 0.06100867057967197, -0.02201591634009465}\n"
     ]
    }
   ],
   "source": [
    "df = pd.read_csv('codesearchnet_june9_00_unpretified.csv')\n",
    "extract_improvements(df)"
   ],
   "metadata": {
    "collapsed": false,
    "pycharm": {
     "name": "#%%\n"
    }
   }
  },
  {
   "cell_type": "code",
   "execution_count": null,
   "outputs": [],
   "source": [],
   "metadata": {
    "collapsed": false,
    "pycharm": {
     "name": "#%%\n"
    }
   }
  }
 ],
 "metadata": {
  "kernelspec": {
   "display_name": "Python 3",
   "language": "python",
   "name": "python3"
  },
  "language_info": {
   "codemirror_mode": {
    "name": "ipython",
    "version": 2
   },
   "file_extension": ".py",
   "mimetype": "text/x-python",
   "name": "python",
   "nbconvert_exporter": "python",
   "pygments_lexer": "ipython2",
   "version": "2.7.6"
  }
 },
 "nbformat": 4,
 "nbformat_minor": 0
}
